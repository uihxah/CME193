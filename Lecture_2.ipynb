{
  "cells": [
    {
      "cell_type": "markdown",
      "metadata": {
        "id": "4-1ab4ZQQTQd"
      },
      "source": [
        "# CME 193 - Lecture 2\n",
        "\n",
        "This class we will cover\n",
        "1. Basics of creating classes and objects\n",
        "2. Basics of NumPy\n",
        "3. Some plotting"
      ]
    },
    {
      "cell_type": "markdown",
      "metadata": {
        "id": "b2Col-r0QTQg"
      },
      "source": [
        "## Quick Recap of lists using Bank Account example"
      ]
    },
    {
      "cell_type": "code",
      "execution_count": null,
      "metadata": {
        "id": "V6m_EyYEQTQh"
      },
      "outputs": [],
      "source": [
        "debits = []\n",
        "credits = []"
      ]
    },
    {
      "cell_type": "code",
      "execution_count": null,
      "metadata": {
        "id": "bFtyaKRaQTQi"
      },
      "outputs": [],
      "source": [
        "def add_to_debits(value):\n",
        "    global debits\n",
        "    debits += [value]"
      ]
    },
    {
      "cell_type": "code",
      "execution_count": null,
      "metadata": {
        "id": "aeZZ3GJEQTQi"
      },
      "outputs": [],
      "source": [
        "def add_to_credits(value):\n",
        "    global credits\n",
        "    credits += [value]"
      ]
    },
    {
      "cell_type": "code",
      "execution_count": null,
      "metadata": {
        "id": "PlE2b35qQTQj"
      },
      "outputs": [],
      "source": [
        "add_to_credits(1000)\n",
        "add_to_debits(10)\n",
        "add_to_debits(15)\n",
        "add_to_debits(100)"
      ]
    },
    {
      "cell_type": "code",
      "execution_count": null,
      "metadata": {
        "id": "malRa4Z_QTQj"
      },
      "outputs": [],
      "source": [
        "def total_value():\n",
        "    global debits\n",
        "    global credits\n",
        "    total =0\n",
        "    for val in debits:\n",
        "        total-=val\n",
        "    for val in credits:\n",
        "        total+=val\n",
        "    return total"
      ]
    },
    {
      "cell_type": "code",
      "execution_count": null,
      "metadata": {
        "id": "kPfJeZ-FQTQk"
      },
      "outputs": [],
      "source": [
        "total_value()"
      ]
    },
    {
      "cell_type": "markdown",
      "metadata": {
        "id": "N1vjdsYSQTQk"
      },
      "source": [
        "## Lets use Classes and Objects"
      ]
    },
    {
      "cell_type": "code",
      "execution_count": null,
      "metadata": {
        "id": "R3cx9dHsQTQl"
      },
      "outputs": [],
      "source": [
        "class Account:\n",
        "    pass"
      ]
    },
    {
      "cell_type": "code",
      "execution_count": null,
      "metadata": {
        "id": "pKRMJUDaQTQl"
      },
      "outputs": [],
      "source": []
    },
    {
      "cell_type": "markdown",
      "metadata": {
        "id": "ymyYZGAQQTQl"
      },
      "source": [
        "## Exercise 1\n",
        "\n",
        "### Add more functionality to the account class\n",
        "\n",
        "1. Add a check before debits to ensure funds are available\n",
        "\n",
        "2. Add a `transfer` function to your account class, which transfers money form one account to another.It should add to the debits of one account and to the credits of the other."
      ]
    },
    {
      "cell_type": "code",
      "execution_count": null,
      "metadata": {
        "id": "0Gz2WiRyQTQl"
      },
      "outputs": [],
      "source": []
    },
    {
      "cell_type": "markdown",
      "metadata": {
        "id": "Dvc4P0QfQTQl"
      },
      "source": [
        "## Example: Rational Numbers\n",
        "\n",
        "Let's continue with our example of rational numbers (fractions), that is, numbers of the form\n",
        "$$r = \\frac{p}{q}$$\n",
        "where $p$ and $q$ are integers. Let's make it support addition using the formula:\n",
        "$$ \\frac{p_1}{q_1} + \\frac{p_2}{q_2} = \\frac{p_1 q_2 + p_2 q_1}{q_1 q_2}$$"
      ]
    },
    {
      "cell_type": "code",
      "execution_count": null,
      "metadata": {
        "id": "y2VX2DbpQTQm"
      },
      "outputs": [],
      "source": []
    },
    {
      "cell_type": "code",
      "execution_count": null,
      "metadata": {
        "id": "ljmh0QJ-QTQm"
      },
      "outputs": [],
      "source": [
        "import math\n",
        "\n",
        "class Rational:\n",
        "    def __init__(self, p, q=1):\n",
        "\n",
        "        if q == 0:\n",
        "            raise ValueError('Denominator must not be zero')\n",
        "        if not isinstance(p, int):\n",
        "            raise TypeError('Numerator must be an integer')\n",
        "        if not isinstance(q, int):\n",
        "            raise TypeError('Denominator must be an integer')\n",
        "\n",
        "        g = math.gcd(p, q)\n",
        "\n",
        "        self.p = p // g\n",
        "        self.q = q // g\n",
        "\n",
        "    # method to convert rational to float\n",
        "    def __float__(self):\n",
        "        return float(self.p) / float(self.q)\n",
        "\n",
        "    # method to convert rational to string for printing\n",
        "    def __str__(self):\n",
        "        return '%d / %d' % (self.p, self.q)\n",
        "\n",
        "    # method to add two rationals - interprets self + other\n",
        "    def __add__(self, other):\n",
        "        if isinstance(other, Rational):\n",
        "            return Rational(self.p * other.q + other.p * self.q, self.q * other.q)\n",
        "        # -- if it's an integer...\n",
        "        elif isinstance(other, int):\n",
        "            return Rational(self.p + other * self.q, self.q)\n",
        "        # -- otherwise, we assume it will be a float\n",
        "        return float(self) + float(other)\n",
        "\n",
        "    def __radd__(self, other): # interprets other + self\n",
        "        return self + other # addition commutes!\n",
        ""
      ]
    },
    {
      "cell_type": "code",
      "execution_count": null,
      "metadata": {
        "id": "ZnTG6FqSQTQm"
      },
      "outputs": [],
      "source": [
        "r = Rational(3)\n",
        "print(r)"
      ]
    },
    {
      "cell_type": "code",
      "execution_count": null,
      "metadata": {
        "scrolled": true,
        "id": "gjqtTgz0QTQm"
      },
      "outputs": [],
      "source": [
        "r = Rational(3, 2)\n",
        "print('Integer adding:')\n",
        "print('right add')\n",
        "print(r + 4)\n",
        "print(float(r + 4))"
      ]
    },
    {
      "cell_type": "code",
      "execution_count": null,
      "metadata": {
        "id": "uHk8p7KFQTQm"
      },
      "outputs": [],
      "source": [
        "print('left add')\n",
        "print(4 + r)\n",
        "print(float(4 + r))"
      ]
    },
    {
      "cell_type": "markdown",
      "metadata": {
        "id": "OklA0hPCQTQn"
      },
      "source": [
        "# Exercise 2\n",
        "\n",
        "### Add more operations to `Rational`\n",
        "You can read about the available operations that you can overload [here](https://docs.python.org/3.7/reference/datamodel.html#emulating-numeric-types)\n",
        "\n",
        "Add the following operations to the `Rational` class:\n",
        "* `*` - use `__mul__`\n",
        "* `/` - use `__truediv__`\n",
        "* `-` - use `__sub__`\n",
        "\n",
        "You only need to define these operations between two `Rational` types - use an `if isinstance(other, Rational):` block.\n",
        "\n",
        "Make a few examples to convince yourself that this works.\n",
        "\n"
      ]
    },
    {
      "cell_type": "code",
      "execution_count": null,
      "metadata": {
        "id": "FU36_qCHQTQn"
      },
      "outputs": [],
      "source": [
        "class Rational:\n",
        "    def __init__(self, p, q=1):\n",
        "\n",
        "        if q == 0:\n",
        "            raise ValueError('Denominator must not be zero')\n",
        "        if not isinstance(p, int):\n",
        "            raise TypeError('Numerator must be an integer')\n",
        "        if not isinstance(q, int):\n",
        "            raise TypeError('Denominator must be an integer')\n",
        "\n",
        "        g = math.gcd(p, q)\n",
        "\n",
        "        self.p = p // g\n",
        "        self.q = q // g\n",
        "\n",
        "    # method to convert rational to float\n",
        "    def __float__(self):\n",
        "        return float(self.p) / float(self.q)\n",
        "\n",
        "    # method to convert rational to string for printing\n",
        "    def __str__(self):\n",
        "        return '%d / %d' % (self.p, self.q)\n",
        "\n",
        "    # method to add two rationals - interprets self + other\n",
        "    def __add__(self, other):\n",
        "        if isinstance(other, Rational):\n",
        "            return Rational(self.p * other.q + other.p * self.q, self.q * other.q)\n",
        "        # -- if it's an integer...\n",
        "        elif isinstance(other, int):\n",
        "            return Rational(self.p + other * self.q, self.q)\n",
        "        # -- otherwise, we assume it will be a float\n",
        "        return float(self) + float(other)\n",
        "\n",
        "    def __radd__(self, other): # interprets other + self\n",
        "        return self + other # addition commutes!\n",
        "\n",
        "    # subtraction\n",
        "    def __sub__(self, other):\n",
        "        raise NotImplementedError('Subtraction not implemented yet')\n",
        "\n",
        "    # multiplication\n",
        "    def __mul__(self, other):\n",
        "        raise NotImplementedError('Subtraction not implemented yet')\n",
        "\n",
        "    # division\n",
        "    def __truediv__(self, other):\n",
        "        raise NotImplementedError('Division not implemented yet')\n",
        ""
      ]
    },
    {
      "cell_type": "code",
      "execution_count": null,
      "metadata": {
        "id": "hMQE6i1MQTQn"
      },
      "outputs": [],
      "source": [
        "# Write some examples to test your code"
      ]
    },
    {
      "cell_type": "markdown",
      "metadata": {
        "id": "9-kQ8zn1QTQn"
      },
      "source": [
        "# Exercise 3\n",
        "## Square root of rationals using the Babylonian method\n",
        "\n",
        "Implement the [Babylonian Method](https://en.wikipedia.org/wiki/Methods_of_computing_square_roots#Babylonian_method) for computing the square root of a number $S$."
      ]
    },
    {
      "cell_type": "code",
      "execution_count": null,
      "metadata": {
        "id": "HAUZDuLHQTQo"
      },
      "outputs": [],
      "source": [
        "def babylonian(S, num_iters=5):\n",
        "    raise NotImplementedError('Not implemented yet')"
      ]
    },
    {
      "cell_type": "code",
      "execution_count": null,
      "metadata": {
        "id": "2gutAHE-QTQo"
      },
      "outputs": [],
      "source": [
        "math.sqrt(24)"
      ]
    },
    {
      "cell_type": "code",
      "execution_count": null,
      "metadata": {
        "id": "ZhOfRFo3QTQo"
      },
      "outputs": [],
      "source": [
        "babylonian(24)"
      ]
    },
    {
      "cell_type": "markdown",
      "metadata": {
        "id": "IFxsjK-zQTQo"
      },
      "source": [
        "# NumPy\n",
        "This is a good segue into NumPy. Python provides only a handful of numeric types: ints, longs, floats, and complex numbers. We just declared a class that implements rational numbers. NumPy implements one very useful numeric type: multidimensional arrays."
      ]
    },
    {
      "cell_type": "code",
      "execution_count": null,
      "metadata": {
        "id": "YC_LzwJ-QTQo"
      },
      "outputs": [],
      "source": [
        "# Quick note on importing\n",
        "import math\n",
        "math.sin(5)"
      ]
    },
    {
      "cell_type": "code",
      "execution_count": null,
      "metadata": {
        "id": "saphVXttQTQo"
      },
      "outputs": [],
      "source": [
        "import math as m\n",
        "m.sin(5)"
      ]
    },
    {
      "cell_type": "code",
      "execution_count": null,
      "metadata": {
        "id": "4ZH9FFuPQTQo"
      },
      "outputs": [],
      "source": [
        "import numpy as np"
      ]
    },
    {
      "cell_type": "code",
      "execution_count": null,
      "metadata": {
        "id": "C3gznCyRQTQo"
      },
      "outputs": [],
      "source": [
        "x = np.array([[0, 1], [1, 5]])\n",
        "x"
      ]
    },
    {
      "cell_type": "code",
      "execution_count": null,
      "metadata": {
        "id": "vbjsOuNbQTQo"
      },
      "outputs": [],
      "source": [
        "y = np.array([[4, 0], [0, 4]])\n",
        "y"
      ]
    },
    {
      "cell_type": "code",
      "execution_count": null,
      "metadata": {
        "id": "9qzSxqmfQTQo"
      },
      "outputs": [],
      "source": [
        "x + y"
      ]
    },
    {
      "cell_type": "code",
      "execution_count": null,
      "metadata": {
        "id": "YTFR9DnIQTQo"
      },
      "outputs": [],
      "source": [
        "x ** 2"
      ]
    },
    {
      "cell_type": "code",
      "execution_count": null,
      "metadata": {
        "id": "3nmM4imXQTQp"
      },
      "outputs": [],
      "source": [
        "x @ y  # Matrix multiplication"
      ]
    },
    {
      "cell_type": "code",
      "execution_count": null,
      "metadata": {
        "id": "pwRjrM-eQTQp"
      },
      "outputs": [],
      "source": [
        "np.sum(x)"
      ]
    },
    {
      "cell_type": "markdown",
      "metadata": {
        "id": "xinv_GHVQTQp"
      },
      "source": [
        "### Why NumPy?"
      ]
    },
    {
      "cell_type": "code",
      "execution_count": null,
      "metadata": {
        "id": "8Iy_CsrJQTQp"
      },
      "outputs": [],
      "source": [
        "%%timeit\n",
        "x = np.random.rand(10000)\n",
        "y = np.random.rand(10000)\n",
        "z=0\n",
        "for i in range(10000):\n",
        "    z += x[i]*y[i]"
      ]
    },
    {
      "cell_type": "code",
      "execution_count": null,
      "metadata": {
        "id": "mRVeI3p2QTQp"
      },
      "outputs": [],
      "source": [
        "%%timeit\n",
        "x = np.random.rand(10000)\n",
        "y = np.random.rand(10000)\n",
        "z = np.dot(x,y)"
      ]
    },
    {
      "cell_type": "markdown",
      "metadata": {
        "id": "NIjV86kbQTQv"
      },
      "source": [
        "## NumPy functions for creating arrays"
      ]
    },
    {
      "cell_type": "code",
      "execution_count": null,
      "metadata": {
        "id": "vPEQcLUwQTQv"
      },
      "outputs": [],
      "source": [
        "X=np.zeros((10,10))\n",
        "X"
      ]
    },
    {
      "cell_type": "code",
      "execution_count": null,
      "metadata": {
        "id": "MsYnhAZVQTQv"
      },
      "outputs": [],
      "source": [
        "X.shape"
      ]
    },
    {
      "cell_type": "code",
      "execution_count": null,
      "metadata": {
        "id": "YgWV7cGBQTQw"
      },
      "outputs": [],
      "source": [
        "Y=np.ones((10,10))\n",
        "Y"
      ]
    },
    {
      "cell_type": "code",
      "execution_count": null,
      "metadata": {
        "id": "VaMREkQSQTQw"
      },
      "outputs": [],
      "source": [
        "2*Y+3"
      ]
    },
    {
      "cell_type": "code",
      "execution_count": null,
      "metadata": {
        "id": "F3qEI0GkQTQw"
      },
      "outputs": [],
      "source": [
        "R=np.random.rand(5,5)\n",
        "R"
      ]
    },
    {
      "cell_type": "code",
      "execution_count": null,
      "metadata": {
        "id": "qOLL2hyiQTQw"
      },
      "outputs": [],
      "source": [
        "Rn = np.random.randn(5,5)\n",
        "Rn"
      ]
    },
    {
      "cell_type": "code",
      "execution_count": null,
      "metadata": {
        "id": "8JM2ROlcQTQw"
      },
      "outputs": [],
      "source": [
        "np.arange(1,100,2)"
      ]
    },
    {
      "cell_type": "code",
      "execution_count": null,
      "metadata": {
        "id": "Jp_TQtaKQTQw"
      },
      "outputs": [],
      "source": [
        "np.linspace(0,5,10)"
      ]
    },
    {
      "cell_type": "code",
      "execution_count": null,
      "metadata": {
        "id": "BJmfpJlQQTQw"
      },
      "outputs": [],
      "source": [
        "X = np.arange(0,100)\n",
        "X"
      ]
    },
    {
      "cell_type": "code",
      "execution_count": null,
      "metadata": {
        "id": "IV0yDfSkQTQw"
      },
      "outputs": [],
      "source": [
        "X.reshape((10,10))"
      ]
    },
    {
      "cell_type": "markdown",
      "metadata": {
        "id": "M1d9iIOOQTQw"
      },
      "source": [
        "# Exercise 4\n",
        "\n",
        "## Numpy Array construction\n",
        "\n",
        "1. 5 by 10 array with all elements random between 50 and 100.\n",
        "2. All numbers between 50 and 51, separated by 0.01"
      ]
    },
    {
      "cell_type": "code",
      "execution_count": null,
      "metadata": {
        "id": "ok_IXmGbQTQw"
      },
      "outputs": [],
      "source": []
    },
    {
      "cell_type": "markdown",
      "metadata": {
        "id": "nRYUEXO3QTQx"
      },
      "source": [
        "# Plotting\n",
        "\n",
        "We will see some functions to do some quick plotting, we will come back to this library later."
      ]
    },
    {
      "cell_type": "code",
      "execution_count": null,
      "metadata": {
        "id": "hluRvWK7QTQx"
      },
      "outputs": [],
      "source": [
        "import matplotlib.pyplot as plt"
      ]
    },
    {
      "cell_type": "code",
      "execution_count": null,
      "metadata": {
        "id": "850H-6nYQTQx"
      },
      "outputs": [],
      "source": [
        "x = np.linspace(-5,5,100)\n",
        "x"
      ]
    },
    {
      "cell_type": "code",
      "execution_count": null,
      "metadata": {
        "id": "gSyWB6e4QTQx"
      },
      "outputs": [],
      "source": [
        "y = x*x\n",
        "y"
      ]
    },
    {
      "cell_type": "code",
      "execution_count": null,
      "metadata": {
        "id": "57uEt3qGQTQx"
      },
      "outputs": [],
      "source": [
        "plt.plot(x,y)"
      ]
    },
    {
      "cell_type": "code",
      "execution_count": null,
      "metadata": {
        "id": "fqBqoy1YQTQx"
      },
      "outputs": [],
      "source": [
        "plt.plot(y)"
      ]
    },
    {
      "cell_type": "code",
      "execution_count": null,
      "metadata": {
        "id": "J1p6XBL9QTQx"
      },
      "outputs": [],
      "source": [
        "plt.plot(np.random.rand(10))"
      ]
    },
    {
      "cell_type": "code",
      "execution_count": null,
      "metadata": {
        "id": "Kj_Uff3oQTQx"
      },
      "outputs": [],
      "source": [
        "plt.plot(np.random.rand(10))\n",
        "plt.plot(np.random.rand(10))"
      ]
    },
    {
      "cell_type": "code",
      "execution_count": null,
      "metadata": {
        "id": "-NI4a3WNQTQx"
      },
      "outputs": [],
      "source": [
        "plt.plot(np.random.rand(10))\n",
        "plt.plot(np.random.rand(10))\n",
        "plt.legend([\"curve1\",\"curve2\"])\n",
        "plt.xlabel(\"X label\")\n",
        "plt.ylabel(\"Y label\")\n",
        "plt.title(\"Title\")"
      ]
    },
    {
      "cell_type": "code",
      "execution_count": null,
      "metadata": {
        "id": "r01zWjJwQTQx"
      },
      "outputs": [],
      "source": []
    }
  ],
  "metadata": {
    "kernelspec": {
      "display_name": "Python (3.6-cme193_new)",
      "language": "python",
      "name": "cme193_new"
    },
    "language_info": {
      "codemirror_mode": {
        "name": "ipython",
        "version": 3
      },
      "file_extension": ".py",
      "mimetype": "text/x-python",
      "name": "python",
      "nbconvert_exporter": "python",
      "pygments_lexer": "ipython3",
      "version": "3.7.4"
    },
    "colab": {
      "provenance": []
    }
  },
  "nbformat": 4,
  "nbformat_minor": 0
}